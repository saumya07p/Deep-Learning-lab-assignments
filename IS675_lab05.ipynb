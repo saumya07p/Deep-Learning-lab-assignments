{
  "cells": [
    {
      "cell_type": "markdown",
      "metadata": {
        "id": "view-in-github",
        "colab_type": "text"
      },
      "source": [
        "<a href=\"https://colab.research.google.com/github/saumya07p/Deep-Learning-lab-assignments/blob/main/IS675_lab05.ipynb\" target=\"_parent\"><img src=\"https://colab.research.google.com/assets/colab-badge.svg\" alt=\"Open In Colab\"/></a>"
      ]
    },
    {
      "cell_type": "markdown",
      "source": [
        "# IS 675 Lab 5 - Using a Neural Network to Fit the Data (1)"
      ],
      "metadata": {
        "id": "djOwOCqhrprH"
      }
    },
    {
      "cell_type": "markdown",
      "source": [
        "##1. Buiding a model"
      ],
      "metadata": {
        "id": "dCsRkRQe0n5K"
      }
    },
    {
      "cell_type": "code",
      "source": [
        "# Mounting Google Drive\n",
        "from google.colab import drive\n",
        "drive.mount('/content/drive')"
      ],
      "metadata": {
        "colab": {
          "base_uri": "https://localhost:8080/"
        },
        "id": "hy3ihfaSjCCG",
        "outputId": "91153253-2f29-4747-8500-d79a32f92b26"
      },
      "execution_count": null,
      "outputs": [
        {
          "output_type": "stream",
          "name": "stdout",
          "text": [
            "Drive already mounted at /content/drive; to attempt to forcibly remount, call drive.mount(\"/content/drive\", force_remount=True).\n"
          ]
        }
      ]
    },
    {
      "cell_type": "code",
      "execution_count": null,
      "metadata": {
        "pycharm": {
          "is_executing": false
        },
        "id": "T5q40fzrq76h"
      },
      "outputs": [],
      "source": [
        "# Import required libraries\n",
        "%matplotlib inline\n",
        "import numpy as np\n",
        "import torch\n",
        "torch.set_printoptions(edgeitems=2, linewidth=75)"
      ]
    },
    {
      "cell_type": "markdown",
      "source": [
        "Consider the thermometer example"
      ],
      "metadata": {
        "id": "1n2V8aEIwp5W"
      }
    },
    {
      "cell_type": "code",
      "execution_count": null,
      "metadata": {
        "pycharm": {
          "is_executing": false
        },
        "id": "BhAUXOJ_q76j"
      },
      "outputs": [],
      "source": [
        "# Load the data in tensors: observed values in unkown units (t_u) versus ground truth values in Celsius (t_c)\n",
        "t_c = [0.5,  14.0, 15.0, 28.0, 11.0,  8.0,  3.0, -4.0,  6.0, 13.0, 21.0]\n",
        "t_u = [35.7, 55.9, 58.2, 81.9, 56.3, 48.9, 33.9, 21.8, 48.4, 60.4, 68.4]\n",
        "t_c = torch.tensor(t_c)\n",
        "t_u = torch.tensor(t_u)"
      ]
    },
    {
      "cell_type": "code",
      "source": [
        "t_c"
      ],
      "metadata": {
        "colab": {
          "base_uri": "https://localhost:8080/"
        },
        "id": "SjK047y-vJkh",
        "outputId": "146b2ac6-d5a4-4960-a1c1-c774bea8c6b9"
      },
      "execution_count": null,
      "outputs": [
        {
          "output_type": "execute_result",
          "data": {
            "text/plain": [
              "tensor([ 0.5000, 14.0000, 15.0000, 28.0000, 11.0000,  8.0000,  3.0000,\n",
              "        -4.0000,  6.0000, 13.0000, 21.0000])"
            ]
          },
          "metadata": {},
          "execution_count": 831
        }
      ]
    },
    {
      "cell_type": "code",
      "source": [
        "t_u"
      ],
      "metadata": {
        "colab": {
          "base_uri": "https://localhost:8080/"
        },
        "id": "kevS3lF-vK5b",
        "outputId": "f7e2bf4b-1c5e-4b61-8550-45b25b16e1d3"
      },
      "execution_count": null,
      "outputs": [
        {
          "output_type": "execute_result",
          "data": {
            "text/plain": [
              "tensor([35.7000, 55.9000, 58.2000, 81.9000, 56.3000, 48.9000, 33.9000,\n",
              "        21.8000, 48.4000, 60.4000, 68.4000])"
            ]
          },
          "metadata": {},
          "execution_count": 832
        }
      ]
    },
    {
      "cell_type": "markdown",
      "source": [
        "We want to estimate a linear model like this: t_c = w * t_u + b\n",
        "\n",
        "What should we estimate?"
      ],
      "metadata": {
        "id": "r8HvKPF-x0lg"
      }
    },
    {
      "cell_type": "code",
      "execution_count": null,
      "metadata": {
        "pycharm": {
          "is_executing": false
        },
        "id": "_klHIbmvq76k"
      },
      "outputs": [],
      "source": [
        "# Choose a linear model as a first try\n",
        "# Notice how broadcasting works\n",
        "def model(t_u, w, b):\n",
        "    return w * t_u + b"
      ]
    },
    {
      "cell_type": "code",
      "source": [
        "# More on broadcasting\n",
        "x = torch.ones(())\n",
        "y = torch.ones(3,1)\n",
        "z = torch.ones(1,3)\n",
        "a = torch.ones(2, 1, 1)\n",
        "print(f\"shapes: x: {x.shape}, y: {y.shape}\")\n",
        "print(f\"        z: {z.shape}, a: {a.shape}\")\n",
        "print(\"x * y:\", (x * y).shape)\n",
        "print(\"y * z:\", (y * z).shape)\n",
        "print(\"y * z * a:\", (y * z * a).shape)"
      ],
      "metadata": {
        "id": "zeSK7SfA1LQH",
        "colab": {
          "base_uri": "https://localhost:8080/"
        },
        "outputId": "426e2950-8db1-4db3-ee20-fb99e0082432"
      },
      "execution_count": null,
      "outputs": [
        {
          "output_type": "stream",
          "name": "stdout",
          "text": [
            "shapes: x: torch.Size([]), y: torch.Size([3, 1])\n",
            "        z: torch.Size([1, 3]), a: torch.Size([2, 1, 1])\n",
            "x * y: torch.Size([3, 1])\n",
            "y * z: torch.Size([3, 3])\n",
            "y * z * a: torch.Size([2, 3, 3])\n"
          ]
        }
      ]
    },
    {
      "cell_type": "markdown",
      "source": [
        "##2. Defining a loss function to penalize the difference between the model estimates and gound truth"
      ],
      "metadata": {
        "id": "OBxGB8Jj0us6"
      }
    },
    {
      "cell_type": "code",
      "execution_count": null,
      "metadata": {
        "pycharm": {
          "is_executing": false
        },
        "id": "6_eENDc2q76k"
      },
      "outputs": [],
      "source": [
        "# Define the loss function: let's consider the nicer behaving \"mean square loss\"\n",
        "def loss_fn(t_p, t_c):\n",
        "    squared_diffs = (t_p - t_c)**2\n",
        "    return squared_diffs.mean()"
      ]
    },
    {
      "cell_type": "code",
      "execution_count": null,
      "metadata": {
        "pycharm": {
          "is_executing": false
        },
        "id": "8bX5dWeCq76l",
        "colab": {
          "base_uri": "https://localhost:8080/"
        },
        "outputId": "f3a4f0b5-72b3-461d-ff12-5b7ac39d98b0"
      },
      "outputs": [
        {
          "output_type": "execute_result",
          "data": {
            "text/plain": [
              "tensor([35.7000, 55.9000, 58.2000, 81.9000, 56.3000, 48.9000, 33.9000,\n",
              "        21.8000, 48.4000, 60.4000, 68.4000])"
            ]
          },
          "metadata": {},
          "execution_count": 836
        }
      ],
      "source": [
        "# Initialize the parameters\n",
        "w = torch.ones(())\n",
        "b = torch.zeros(())\n",
        "\n",
        "# Invoke the model\n",
        "t_p = model(t_u, w, b)\n",
        "t_p"
      ]
    },
    {
      "cell_type": "code",
      "execution_count": null,
      "metadata": {
        "pycharm": {
          "is_executing": false
        },
        "id": "-EqxDekmq76l",
        "colab": {
          "base_uri": "https://localhost:8080/"
        },
        "outputId": "522602a4-6fb8-477d-e2dc-44373331692f"
      },
      "outputs": [
        {
          "output_type": "execute_result",
          "data": {
            "text/plain": [
              "tensor(1763.8848)"
            ]
          },
          "metadata": {},
          "execution_count": 837
        }
      ],
      "source": [
        "# Check the value of the loss with the given w and b\n",
        "loss = loss_fn(t_p, t_c)\n",
        "loss"
      ]
    },
    {
      "cell_type": "markdown",
      "source": [
        "##3. Decreasing loss"
      ],
      "metadata": {
        "id": "qtxMZ9bH1q8G"
      }
    },
    {
      "cell_type": "markdown",
      "source": [
        "###3.1. Computing the derivatives\n",
        "\n",
        "Recall that our model is a linear function, and our loss is a sum of squares. Let’s figure out the expressions for the derivatives. Remembering that d x^2 / d x = 2 x, we have"
      ],
      "metadata": {
        "id": "_hBWK8zY2VSm"
      }
    },
    {
      "cell_type": "code",
      "execution_count": null,
      "metadata": {
        "pycharm": {
          "is_executing": false
        },
        "id": "VaTleF_Uq76n"
      },
      "outputs": [],
      "source": [
        "# Define a function that returns the derivative of loss wrt t_p (the linear model)\n",
        "def dloss_fn(t_p, t_c):\n",
        "    dsq_diffs = 2 * (t_p - t_c) / t_p.size(0)  # <1>\n",
        "    return dsq_diffs\n",
        "# <1> The division is from the derivative of mean"
      ]
    },
    {
      "cell_type": "code",
      "execution_count": null,
      "metadata": {
        "pycharm": {
          "is_executing": false
        },
        "id": "5cmaodjLq76n"
      },
      "outputs": [],
      "source": [
        "# Define a function that returns the derivative of t_p (the linear model) wrt w (weight)\n",
        "def dmodel_dw(t_u, w, b):\n",
        "    return t_u"
      ]
    },
    {
      "cell_type": "code",
      "execution_count": null,
      "metadata": {
        "pycharm": {
          "is_executing": false
        },
        "id": "Wca-9Wqiq76n"
      },
      "outputs": [],
      "source": [
        "# Define a function that returns the derivative of t_p (the linear model) wrt b (bias)\n",
        "\n",
        "def dmodel_db(t_u, w, b):\n",
        "    return 1.0"
      ]
    },
    {
      "cell_type": "markdown",
      "source": [
        "Now let's use the chain rule to define our gradient function."
      ],
      "metadata": {
        "id": "gRLpuj5E6Gr2"
      }
    },
    {
      "cell_type": "markdown",
      "source": [
        "![image.png](data:image/png;base64,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)"
      ],
      "metadata": {
        "id": "gXK17WWi5_F4"
      }
    },
    {
      "cell_type": "code",
      "execution_count": null,
      "metadata": {
        "pycharm": {
          "is_executing": false
        },
        "id": "-E8wAWOTq76n"
      },
      "outputs": [],
      "source": [
        "# Define the gradient function that employs the chain rule\n",
        "def grad_fn(t_u, t_c, t_p, w, b):\n",
        "    dloss_dtp = dloss_fn(t_p, t_c)\n",
        "    dloss_dw = dloss_dtp * dmodel_dw(t_u, w, b)\n",
        "    dloss_db = dloss_dtp * dmodel_db(t_u, w, b)\n",
        "    return torch.stack([dloss_dw.sum(), dloss_db.sum()])  # <1>\n",
        "    # <1> The summation is the reverse of the broadcasting we implicitly do when applying the parameters to an entire vector of inputs in the model."
      ]
    },
    {
      "cell_type": "markdown",
      "source": [
        "###3.2. Iterating to reduce the loss and fit the model\n",
        "\n",
        "We now have everything in place to optimize our parameters. Starting from a tentative value for a parameter, we can iteratively apply updates to it for a fixed number of iterations, or until w and b stop changing. There are several stopping criteria; for now, we’ll stick to a fixed number of iterations or **epochs**.\n",
        "\n",
        "**Epoch**: We call a training iteration during which we update the parameters for all of our training samples an epoch.\n",
        "\n",
        "Also we typically should scale the rate of change by a small factor. This scaling factor has many names; the one we use in machine learning is **learning_rate**."
      ],
      "metadata": {
        "id": "sHE0xinf72Hu"
      }
    },
    {
      "cell_type": "code",
      "execution_count": null,
      "metadata": {
        "pycharm": {
          "is_executing": false
        },
        "id": "7EjRROCtq76o"
      },
      "outputs": [],
      "source": [
        "# Define a training loop to obtain estimated params w and b\n",
        "def training_loop(n_epochs, learning_rate, params, t_u, t_c):\n",
        "    for epoch in range(1, n_epochs + 1):\n",
        "        w, b = params\n",
        "\n",
        "        t_p = model(t_u, w, b)  # <1> Forward pass\n",
        "        loss = loss_fn(t_p, t_c)\n",
        "        grad = grad_fn(t_u, t_c, t_p, w, b)  # <2> Backward pass\n",
        "\n",
        "        params = params - learning_rate * grad # updating/changing params with a scale/learning rate\n",
        "\n",
        "        print('Epoch %d, Loss %f' % (epoch, float(loss))) # <3> This logging line can be very verbose.\n",
        "\n",
        "    return params"
      ]
    },
    {
      "cell_type": "code",
      "source": [
        "# Define a more detailed training loop to obtain estimated params w and b and to avoid verbosity\n",
        "def training_loop(n_epochs, learning_rate, params, t_u, t_c,\n",
        "                  print_params=True):\n",
        "    for epoch in range(1, n_epochs + 1):\n",
        "        w, b = params\n",
        "\n",
        "        t_p = model(t_u, w, b)  # <1> Forward pass\n",
        "        loss = loss_fn(t_p, t_c)\n",
        "        grad = grad_fn(t_u, t_c, t_p, w, b)  # <2> Backward pass\n",
        "\n",
        "        params = params - learning_rate * grad # updating/changing params with a scale/learning rate\n",
        "\n",
        "        if epoch in {1, 2, 3, 10, 11, 99, 100, 4000, 5000}:  # <3>\n",
        "            print('Epoch %d, Loss %f' % (epoch, float(loss)))\n",
        "            if print_params:\n",
        "                print('    Params:', params)\n",
        "                print('    Grad:  ', grad)\n",
        "        if epoch in {4, 12, 101}:\n",
        "            print('...')\n",
        "\n",
        "        if not torch.isfinite(loss).all():\n",
        "            break  # <3>\n",
        "\n",
        "    return params"
      ],
      "metadata": {
        "id": "fUdmSj4mGKyb"
      },
      "execution_count": null,
      "outputs": []
    },
    {
      "cell_type": "code",
      "source": [
        "# Call the training loop\n",
        "training_loop(\n",
        "    n_epochs = 100,\n",
        "    learning_rate = 1e-2,\n",
        "    params = torch.tensor([1.0, 0.0]),\n",
        "    t_u = t_u,\n",
        "    t_c = t_c)"
      ],
      "metadata": {
        "id": "c86QA7MrEQTF",
        "colab": {
          "base_uri": "https://localhost:8080/"
        },
        "outputId": "7d45a3a4-8c21-4403-c311-967828be1ec6"
      },
      "execution_count": null,
      "outputs": [
        {
          "output_type": "stream",
          "name": "stdout",
          "text": [
            "Epoch 1, Loss 1763.884766\n",
            "    Params: tensor([-44.1730,  -0.8260])\n",
            "    Grad:   tensor([4517.2964,   82.6000])\n",
            "Epoch 2, Loss 5802484.500000\n",
            "    Params: tensor([2568.4011,   45.1637])\n",
            "    Grad:   tensor([-261257.4062,   -4598.9702])\n",
            "Epoch 3, Loss 19408029696.000000\n",
            "    Params: tensor([-148527.7344,   -2616.3931])\n",
            "    Grad:   tensor([15109614.0000,   266155.6875])\n",
            "...\n",
            "Epoch 10, Loss 90901105189019073810297959556841472.000000\n",
            "    Params: tensor([3.2144e+17, 5.6621e+15])\n",
            "    Grad:   tensor([-3.2700e+19, -5.7600e+17])\n",
            "Epoch 11, Loss inf\n",
            "    Params: tensor([-1.8590e+19, -3.2746e+17])\n",
            "    Grad:   tensor([1.8912e+21, 3.3313e+19])\n"
          ]
        },
        {
          "output_type": "execute_result",
          "data": {
            "text/plain": [
              "tensor([-1.8590e+19, -3.2746e+17])"
            ]
          },
          "metadata": {},
          "execution_count": 844
        }
      ]
    },
    {
      "cell_type": "markdown",
      "source": [
        "Wait, what happened? Our training process literally blew up, leading to losses becoming inf. This is a clear sign that params is receiving updates that are too large, and their values start oscillating back and forth as each update overshoots and the next overcorrects even more. The optimization process is unstable: it diverges instead of converging to a minimum. We want to see smaller and smaller updates to params, not larger!"
      ],
      "metadata": {
        "id": "22q0kVC9AcRi"
      }
    },
    {
      "cell_type": "markdown",
      "source": [
        "Q1. We usually change learning rates by orders of magnitude. Try learning-rate = 1e-4 and see the results. Based on your results explain which model has a stable behaviour and why? (1 pts)\n",
        "\n",
        "**Answer**: According to me, the second model having learning rate = 1e-4 is a more stable model, as the loss is decreasing which showcases that the model is becoming more stable by learning. The learning rate should be lower so that the model can **Learn**."
      ],
      "metadata": {
        "id": "2jSZxVvAALrC"
      }
    },
    {
      "cell_type": "code",
      "source": [
        "#Q1\n",
        "# Call the training loop\n",
        "training_loop(\n",
        "    n_epochs = 100,\n",
        "    learning_rate = 1e-4,\n",
        "    params = torch.tensor([1.0, 0.0]),\n",
        "    t_u = t_u,\n",
        "    t_c = t_c)"
      ],
      "metadata": {
        "id": "W0dYx5Q-Ba0a",
        "colab": {
          "base_uri": "https://localhost:8080/"
        },
        "outputId": "d4ffb981-dde9-4c60-e08f-ce4d268590df"
      },
      "execution_count": null,
      "outputs": [
        {
          "output_type": "stream",
          "name": "stdout",
          "text": [
            "Epoch 1, Loss 1763.884766\n",
            "    Params: tensor([ 0.5483, -0.0083])\n",
            "    Grad:   tensor([4517.2964,   82.6000])\n",
            "Epoch 2, Loss 323.090515\n",
            "    Params: tensor([ 0.3623, -0.0118])\n",
            "    Grad:   tensor([1859.5493,   35.7843])\n",
            "Epoch 3, Loss 78.929634\n",
            "    Params: tensor([ 0.2858, -0.0135])\n",
            "    Grad:   tensor([765.4666,  16.5122])\n",
            "...\n",
            "Epoch 10, Loss 29.105247\n",
            "    Params: tensor([ 0.2324, -0.0166])\n",
            "    Grad:   tensor([1.4803, 3.0544])\n",
            "Epoch 11, Loss 29.104168\n",
            "    Params: tensor([ 0.2323, -0.0169])\n",
            "    Grad:   tensor([0.5781, 3.0384])\n",
            "...\n",
            "Epoch 99, Loss 29.023582\n",
            "    Params: tensor([ 0.2327, -0.0435])\n",
            "    Grad:   tensor([-0.0533,  3.0226])\n",
            "Epoch 100, Loss 29.022667\n",
            "    Params: tensor([ 0.2327, -0.0438])\n",
            "    Grad:   tensor([-0.0532,  3.0226])\n"
          ]
        },
        {
          "output_type": "execute_result",
          "data": {
            "text/plain": [
              "tensor([ 0.2327, -0.0438])"
            ]
          },
          "metadata": {},
          "execution_count": 845
        }
      ]
    },
    {
      "cell_type": "markdown",
      "source": [
        "There’s another problem: the updates to parameters are very small, so the loss decreases very slowly and eventually stalls. We could obviate this issue by making learning_rate adaptive: that is, change according to the magnitude of updates. There are optimization schemes that do that!"
      ],
      "metadata": {
        "id": "axM4zZXxIKGK"
      }
    },
    {
      "cell_type": "markdown",
      "source": [
        "##4. Normalizing inputs\n",
        "\n",
        "We can see that the first-epoch gradient for the weight is about 50 times larger than the gradient for the bias. This means the weight and bias live in differently scaled spaces. If this is the case, a learning rate that’s large enough to meaningfully update one will be so large as to be unstable for the other; and a rate that’s appropriate for the other won’t be large enough to meaningfully change the first.\n",
        "\n",
        "We could have individual learning rates for each parameter, but for models with many parameters, this would be too much to bother with; it’s babysitting of the kind we don’t like.\n",
        "\n",
        "There’s a simpler way to keep things in check: changing the inputs so that the gradients aren’t quite so different. We can make sure the range of the input doesn’t get too far from the range of –1.0 to 1.0, roughly speaking. In our case, we can achieve something close enough to that by simply multiplying t_u by 0.1!"
      ],
      "metadata": {
        "id": "gB3anQXcI0Oi"
      }
    },
    {
      "cell_type": "code",
      "execution_count": null,
      "metadata": {
        "pycharm": {
          "is_executing": false
        },
        "id": "69ioTILfq76o"
      },
      "outputs": [],
      "source": [
        "# Perform normalization\n",
        "t_un = 0.1 * t_u\n",
        "\n",
        "#t_min = torch.min(t_u)\n",
        "#t_max = torch.max(t_u)\n",
        "#t_un = (t_u - t_min) / (t_max - t_min)\n",
        "#t_un"
      ]
    },
    {
      "cell_type": "code",
      "execution_count": null,
      "metadata": {
        "pycharm": {
          "is_executing": false
        },
        "scrolled": true,
        "id": "uX-drgfFq76p",
        "colab": {
          "base_uri": "https://localhost:8080/"
        },
        "outputId": "92ab8ceb-eac6-4252-ff1b-0aa90205b6e4"
      },
      "outputs": [
        {
          "output_type": "stream",
          "name": "stdout",
          "text": [
            "Epoch 1, Loss 80.364342\n",
            "    Params: tensor([1.7761, 0.1064])\n",
            "    Grad:   tensor([-77.6140, -10.6400])\n",
            "Epoch 2, Loss 37.574913\n",
            "    Params: tensor([2.0848, 0.1303])\n",
            "    Grad:   tensor([-30.8623,  -2.3864])\n",
            "Epoch 3, Loss 30.871077\n",
            "    Params: tensor([2.2094, 0.1217])\n",
            "    Grad:   tensor([-12.4631,   0.8587])\n",
            "...\n",
            "Epoch 10, Loss 29.030489\n",
            "    Params: tensor([ 2.3232, -0.0710])\n",
            "    Grad:   tensor([-0.5355,  2.9295])\n",
            "Epoch 11, Loss 28.941877\n",
            "    Params: tensor([ 2.3284, -0.1003])\n",
            "    Grad:   tensor([-0.5240,  2.9264])\n",
            "...\n",
            "Epoch 99, Loss 22.214186\n",
            "    Params: tensor([ 2.7508, -2.4910])\n",
            "    Grad:   tensor([-0.4453,  2.5208])\n",
            "Epoch 100, Loss 22.148710\n",
            "    Params: tensor([ 2.7553, -2.5162])\n",
            "    Grad:   tensor([-0.4446,  2.5165])\n"
          ]
        },
        {
          "output_type": "execute_result",
          "data": {
            "text/plain": [
              "tensor([ 2.7553, -2.5162])"
            ]
          },
          "metadata": {},
          "execution_count": 847
        }
      ],
      "source": [
        "# Train the model with normalized input\n",
        "training_loop(\n",
        "    n_epochs = 100,\n",
        "    learning_rate = 1e-2,\n",
        "    params = torch.tensor([1.0, 0.0]),\n",
        "    t_u = t_un, # We’ve updated t_u to our new, rescaled t_un\n",
        "    t_c = t_c)"
      ]
    },
    {
      "cell_type": "code",
      "execution_count": null,
      "metadata": {
        "pycharm": {
          "is_executing": false
        },
        "scrolled": true,
        "id": "aiLKUY12q76p",
        "colab": {
          "base_uri": "https://localhost:8080/"
        },
        "outputId": "bd1cba13-70a9-481e-b78b-01b453531fdd"
      },
      "outputs": [
        {
          "output_type": "stream",
          "name": "stdout",
          "text": [
            "Epoch 1, Loss 80.364342\n",
            "Epoch 2, Loss 79.752480\n",
            "Epoch 3, Loss 79.148026\n",
            "...\n",
            "Epoch 10, Loss 75.116219\n",
            "Epoch 11, Loss 74.567734\n",
            "...\n",
            "Epoch 99, Loss 45.087246\n",
            "Epoch 100, Loss 44.900906\n",
            "...\n",
            "Epoch 4000, Loss 26.422497\n",
            "Epoch 5000, Loss 25.637672\n"
          ]
        },
        {
          "output_type": "execute_result",
          "data": {
            "text/plain": [
              "tensor([ 2.5233, -1.2029])"
            ]
          },
          "metadata": {},
          "execution_count": 848
        }
      ],
      "source": [
        "# Train the model with more epochs and smaller learning_rate\n",
        "params = training_loop(\n",
        "    n_epochs = 5000,\n",
        "    learning_rate = 1e-4,\n",
        "    params = torch.tensor([1.0, 0.0]),\n",
        "    t_u = t_un,\n",
        "    t_c = t_c,\n",
        "    print_params = False)\n",
        "\n",
        "params"
      ]
    },
    {
      "cell_type": "markdown",
      "source": [
        "The exact values would be w=5.5556 and b=-17.7778. Our fancy thermometer was showing temperatures in Fahrenheit the whole time. No big discovery, except that our gradient descent optimization process works!"
      ],
      "metadata": {
        "id": "bMFAoWDYU_I7"
      }
    },
    {
      "cell_type": "code",
      "execution_count": null,
      "metadata": {
        "pycharm": {
          "is_executing": false
        },
        "scrolled": true,
        "id": "v4SDXKjsq76p",
        "colab": {
          "base_uri": "https://localhost:8080/",
          "height": 466
        },
        "outputId": "96133985-cd39-406a-e3da-6abaa7758d95"
      },
      "outputs": [
        {
          "output_type": "execute_result",
          "data": {
            "text/plain": [
              "[<matplotlib.lines.Line2D at 0x7bd8b2161c30>]"
            ]
          },
          "metadata": {},
          "execution_count": 849
        },
        {
          "output_type": "display_data",
          "data": {
            "text/plain": [
              "<Figure size 640x480 with 1 Axes>"
            ],
            "image/png": "[encoded data removed]"
          },
          "metadata": {}
        }
      ],
      "source": [
        "# Plot the estimated model and the ground truth observations\n",
        "%matplotlib inline\n",
        "from matplotlib import pyplot as plt\n",
        "\n",
        "t_p = model(t_un, *params)  # Remember that we’re training on the normalized unknown units. We also use argument unpacking\n",
        "\n",
        "fig = plt.figure(dpi=100)\n",
        "plt.xlabel(\"Temperature (°Fahrenheit)\")\n",
        "plt.ylabel(\"Temperature (°Celsius)\")\n",
        "plt.plot(t_u.numpy(), t_p.detach().numpy()) # But we’re plotting the raw unknown values\n",
        "plt.plot(t_u.numpy(), t_c.numpy(), 'o')\n",
        "#plt.savefig(\"temp_unknown_plot.png\", format=\"png\")  # bookskip"
      ]
    },
    {
      "cell_type": "markdown",
      "source": [
        "Q2. Perform a min-max normalization on the input data (call it t_un_minmax) and train the model. Then compare the model performance to the previous model. Which one works better, why?"
      ],
      "metadata": {
        "id": "dSlovKe5WEkL"
      }
    },
    {
      "cell_type": "code",
      "execution_count": null,
      "metadata": {
        "id": "S4yNKWi_q76p",
        "colab": {
          "base_uri": "https://localhost:8080/"
        },
        "outputId": "29963c47-0570-483f-8a1a-4563fb43f4b5"
      },
      "outputs": [
        {
          "output_type": "execute_result",
          "data": {
            "text/plain": [
              "tensor([0.2313, 0.5674, 0.6057, 1.0000, 0.5740, 0.4509, 0.2013, 0.0000,\n",
              "        0.4426, 0.6423, 0.7754])"
            ]
          },
          "metadata": {},
          "execution_count": 850
        }
      ],
      "source": [
        "#Q2\n",
        "# Performing normalization\n",
        "t_min = torch.min(t_u)\n",
        "t_max = torch.max(t_u)\n",
        "t_un_minmax = (t_u - t_min) / (t_max - t_min)\n",
        "t_un_minmax"
      ]
    },
    {
      "cell_type": "code",
      "source": [
        "training_loop(\n",
        "    n_epochs = 100,\n",
        "    learning_rate = 1e-2,\n",
        "    params = torch.tensor([1.0, 0.0]),\n",
        "    t_u = t_un_minmax, # We’ve updated t_u to our new, rescaled t_un_minmax\n",
        "    t_c = t_c)"
      ],
      "metadata": {
        "colab": {
          "base_uri": "https://localhost:8080/"
        },
        "id": "KDqtnnXM11b3",
        "outputId": "7bc44535-fa3b-4be7-e28d-859e749cba0f"
      },
      "execution_count": null,
      "outputs": [
        {
          "output_type": "stream",
          "name": "stdout",
          "text": [
            "Epoch 1, Loss 172.623627\n",
            "    Params: tensor([1.1444, 0.2000])\n",
            "    Grad:   tensor([-14.4422, -20.0017])\n",
            "Epoch 2, Loss 166.612732\n",
            "    Params: tensor([1.2859, 0.3946])\n",
            "    Grad:   tensor([-14.1500, -19.4574])\n",
            "Epoch 3, Loss 160.896347\n",
            "    Params: tensor([1.4246, 0.5839])\n",
            "    Grad:   tensor([-13.8650, -18.9270])\n",
            "...\n",
            "Epoch 10, Loss 127.982521\n",
            "    Params: tensor([2.3211, 1.7711])\n",
            "    Grad:   tensor([-12.0601, -15.5724])\n",
            "Epoch 11, Loss 124.150726\n",
            "    Params: tensor([2.4394, 1.9225])\n",
            "    Grad:   tensor([-11.8273, -15.1405])\n",
            "...\n",
            "Epoch 99, Loss 45.086716\n",
            "    Params: tensor([7.9886, 6.3701])\n",
            "    Grad:   tensor([-3.6300, -0.3274])\n",
            "Epoch 100, Loss 44.954426\n",
            "    Params: tensor([8.0246, 6.3729])\n",
            "    Grad:   tensor([-3.6035, -0.2846])\n"
          ]
        },
        {
          "output_type": "execute_result",
          "data": {
            "text/plain": [
              "tensor([8.0246, 6.3729])"
            ]
          },
          "metadata": {},
          "execution_count": 851
        }
      ]
    },
    {
      "cell_type": "code",
      "source": [
        "# Train the model with more epochs and smaller learning_rate\n",
        "params1 = training_loop(\n",
        "    n_epochs = 5000,\n",
        "    learning_rate = 1e-4,\n",
        "    params = torch.tensor([1.0, 0.0]),\n",
        "    t_u = t_un_minmax,\n",
        "    t_c = t_c,\n",
        "    print_params = False)\n",
        "\n",
        "params1"
      ],
      "metadata": {
        "colab": {
          "base_uri": "https://localhost:8080/"
        },
        "id": "67P6jpGZ2Odn",
        "outputId": "c8ddd3ec-e44f-4b4b-e4e7-390cbcb42a6d"
      },
      "execution_count": null,
      "outputs": [
        {
          "output_type": "stream",
          "name": "stdout",
          "text": [
            "Epoch 1, Loss 172.623627\n",
            "Epoch 2, Loss 172.562775\n",
            "Epoch 3, Loss 172.501953\n",
            "...\n",
            "Epoch 10, Loss 172.077011\n",
            "Epoch 11, Loss 172.016418\n",
            "...\n",
            "Epoch 99, Loss 166.800934\n",
            "Epoch 100, Loss 166.742950\n",
            "...\n",
            "Epoch 4000, Loss 65.725945\n",
            "Epoch 5000, Loss 58.470779\n"
          ]
        },
        {
          "output_type": "execute_result",
          "data": {
            "text/plain": [
              "tensor([5.7095, 5.3540])"
            ]
          },
          "metadata": {},
          "execution_count": 852
        }
      ]
    },
    {
      "cell_type": "markdown",
      "source": [
        "**Answer:** The previous model works better (the one without the min-max normalization) as it is producing lower loss as compared to the model having minmax normalization at the last epoch respectively."
      ],
      "metadata": {
        "id": "79cQ3IWg2Pd-"
      }
    },
    {
      "cell_type": "markdown",
      "source": [
        "Q3. Why your estimated weight and bias parameters are not similar to the actual ones when we convert F to C (in general, we have C = 0.5556*F - 17.7778)?\n",
        "\n",
        "**Answer**: The differences between the estimated and actual parameters occur due to imperfections in data, the training process, and model characteristics. These factors prevent the model from perfectly capturing the true linear relationship between Fahrenheit and Celsius."
      ],
      "metadata": {
        "id": "sW5VAKy4VKUR"
      }
    },
    {
      "cell_type": "markdown",
      "source": [
        "##5. PyTorch’s autograd: Backpropagating all things\n",
        "\n",
        "we just saw a simple example of backpropagation: we computed the gradient of a composition of functions—the model and the loss—with respect to their innermost parameters (w and b) by propagating derivatives backward using the chain rule. But what if the model is very complex. Pytorch does it for us!"
      ],
      "metadata": {
        "id": "EeZWc3wzbV0a"
      }
    },
    {
      "cell_type": "markdown",
      "source": [
        "###5.1. Computing the gradient automatically"
      ],
      "metadata": {
        "id": "tTT6aQQ6bdpz"
      }
    },
    {
      "cell_type": "code",
      "source": [
        "# Let’s again initialize a parameters tensor\n",
        "params = torch.tensor([1.0, 0.0], requires_grad=True)"
      ],
      "metadata": {
        "id": "TqoNKrIDN-z-"
      },
      "execution_count": null,
      "outputs": []
    },
    {
      "cell_type": "markdown",
      "source": [
        "**require_grad**: this argument is telling PyTorch to track the entire family tree of tensors resulting from operations on params. In other words, any tensor that will have params as an ancestor will have access to the chain of functions that were called to get from params to that tensor. In case these functions are differentiable, the value of the derivative will be automatically populated as a grad attribute of the\n",
        "params tensor.\n",
        "In general, all PyTorch tensors have an attribute named **grad**. Normally, it’s None"
      ],
      "metadata": {
        "id": "Ihy5AyoNOSuE"
      }
    },
    {
      "cell_type": "code",
      "source": [
        "# Check params grad attribute\n",
        "params.grad is None"
      ],
      "metadata": {
        "id": "IBLWKFYLPSxX",
        "colab": {
          "base_uri": "https://localhost:8080/"
        },
        "outputId": "2232017a-7ad1-49d9-91de-2a6db6608d0f"
      },
      "execution_count": null,
      "outputs": [
        {
          "output_type": "execute_result",
          "data": {
            "text/plain": [
              "True"
            ]
          },
          "metadata": {},
          "execution_count": 854
        }
      ]
    },
    {
      "cell_type": "markdown",
      "source": [
        "**Good news**: All we have to do to populate it is to start with a tensor with requires_grad set to True, then call the model and compute the loss, and then call **backward** on the **loss** tensor:"
      ],
      "metadata": {
        "id": "7jjVpZixP3Ge"
      }
    },
    {
      "cell_type": "code",
      "source": [
        "# Call the model and compute the loss, and then call backward\n",
        "loss = loss_fn(model(t_u, *params), t_c)\n",
        "loss.backward()\n",
        "\n",
        "params.grad"
      ],
      "metadata": {
        "id": "cArRqGEHQcYV",
        "colab": {
          "base_uri": "https://localhost:8080/"
        },
        "outputId": "21752421-dca6-47f3-edf7-a127fa7e8c44"
      },
      "execution_count": null,
      "outputs": [
        {
          "output_type": "execute_result",
          "data": {
            "text/plain": [
              "tensor([4517.2969,   82.6000])"
            ]
          },
          "metadata": {},
          "execution_count": 855
        }
      ]
    },
    {
      "cell_type": "markdown",
      "source": [
        "**WARNING** Calling **backward** will lead derivatives to accumulate (summed). We need to zero the gradient explicitly after using it for parameter updates."
      ],
      "metadata": {
        "id": "fCsbcLjrRSWl"
      }
    },
    {
      "cell_type": "code",
      "source": [
        "params.grad"
      ],
      "metadata": {
        "id": "Lk_coRgMSXaI",
        "colab": {
          "base_uri": "https://localhost:8080/"
        },
        "outputId": "1a52adb1-be99-4ca3-fe4f-f05afdc796b6"
      },
      "execution_count": null,
      "outputs": [
        {
          "output_type": "execute_result",
          "data": {
            "text/plain": [
              "tensor([4517.2969,   82.6000])"
            ]
          },
          "metadata": {},
          "execution_count": 856
        }
      ]
    },
    {
      "cell_type": "code",
      "source": [
        "# Zero the gradient\n",
        "if params.grad is not None:\n",
        "    params.grad.zero_()\n",
        "params.grad"
      ],
      "metadata": {
        "id": "-l1_pDeARySV",
        "colab": {
          "base_uri": "https://localhost:8080/"
        },
        "outputId": "19d88760-787c-4bce-8347-d24b7490fff2"
      },
      "execution_count": null,
      "outputs": [
        {
          "output_type": "execute_result",
          "data": {
            "text/plain": [
              "tensor([0., 0.])"
            ]
          },
          "metadata": {},
          "execution_count": 857
        }
      ]
    },
    {
      "cell_type": "code",
      "source": [
        "# Define the training_loop with autograd-enabled training code\n",
        "def training_loop(n_epochs, learning_rate, params, t_u, t_c):\n",
        "    for epoch in range(1, n_epochs + 1):\n",
        "        if params.grad is not None:  # This could be done at any point in the loop prior to calling loss.backward()\n",
        "            params.grad.zero_()\n",
        "\n",
        "        t_p = model(t_u, *params)\n",
        "        loss = loss_fn(t_p, t_c)\n",
        "        loss.backward()\n",
        "\n",
        "        with torch.no_grad():  # This is ensuring that this specific update of the parameters does not contribute to further gradient computations\n",
        "            params -= learning_rate * params.grad\n",
        "\n",
        "        if epoch % 500 == 0:\n",
        "            print('Epoch %d, Loss %f' % (epoch, float(loss)))\n",
        "\n",
        "    return params"
      ],
      "metadata": {
        "id": "E9ttSIxdTLPP"
      },
      "execution_count": null,
      "outputs": []
    },
    {
      "cell_type": "code",
      "source": [
        "# Train the model in a training loop that uses auto-grad\n",
        "training_loop(\n",
        "    n_epochs = 5000,\n",
        "    learning_rate = 1e-2,\n",
        "    params = torch.tensor([1.0, 0.0], requires_grad=True), # <1>\n",
        "    t_u = t_un, # <2>\n",
        "    t_c = t_c)"
      ],
      "metadata": {
        "id": "sK-AYU3vVQzw",
        "colab": {
          "base_uri": "https://localhost:8080/"
        },
        "outputId": "cb05c278-7339-45fa-dae1-6f9030e456f6"
      },
      "execution_count": null,
      "outputs": [
        {
          "output_type": "stream",
          "name": "stdout",
          "text": [
            "Epoch 500, Loss 7.860115\n",
            "Epoch 1000, Loss 3.828538\n",
            "Epoch 1500, Loss 3.092191\n",
            "Epoch 2000, Loss 2.957698\n",
            "Epoch 2500, Loss 2.933134\n",
            "Epoch 3000, Loss 2.928648\n",
            "Epoch 3500, Loss 2.927830\n",
            "Epoch 4000, Loss 2.927679\n",
            "Epoch 4500, Loss 2.927652\n",
            "Epoch 5000, Loss 2.927647\n"
          ]
        },
        {
          "output_type": "execute_result",
          "data": {
            "text/plain": [
              "tensor([  5.3671, -17.3012], requires_grad=True)"
            ]
          },
          "metadata": {},
          "execution_count": 859
        }
      ]
    },
    {
      "cell_type": "markdown",
      "source": [
        "###5.2. Optimizers a la carte\n",
        "In the example code, we used vanilla gradient descent for optimization, which worked fine for our simple case. Needless to say, there are several optimization strategies and tricks that can assist convergence, especially when models get complicated.\n",
        "\n",
        "**Good news**: PyTorch abstracts the optimization strategy away from user code!"
      ],
      "metadata": {
        "id": "LERkhsHJboZr"
      }
    },
    {
      "cell_type": "code",
      "source": [
        "# Import optim to access existing optimizaers\n",
        "import torch.optim as optim\n",
        "\n",
        "dir(optim)"
      ],
      "metadata": {
        "id": "w8mKdFHTX-ce",
        "colab": {
          "base_uri": "https://localhost:8080/"
        },
        "outputId": "0ca84f20-7df8-4327-dbfc-e2dc5c60776a"
      },
      "execution_count": null,
      "outputs": [
        {
          "output_type": "execute_result",
          "data": {
            "text/plain": [
              "['ASGD',\n",
              " 'Adadelta',\n",
              " 'Adagrad',\n",
              " 'Adam',\n",
              " 'AdamW',\n",
              " 'Adamax',\n",
              " 'LBFGS',\n",
              " 'NAdam',\n",
              " 'Optimizer',\n",
              " 'RAdam',\n",
              " 'RMSprop',\n",
              " 'Rprop',\n",
              " 'SGD',\n",
              " 'SparseAdam',\n",
              " '__builtins__',\n",
              " '__cached__',\n",
              " '__doc__',\n",
              " '__file__',\n",
              " '__loader__',\n",
              " '__name__',\n",
              " '__package__',\n",
              " '__path__',\n",
              " '__spec__',\n",
              " '_functional',\n",
              " '_multi_tensor',\n",
              " 'lr_scheduler',\n",
              " 'swa_utils']"
            ]
          },
          "metadata": {},
          "execution_count": 860
        }
      ]
    },
    {
      "cell_type": "code",
      "source": [
        "# Create params and instantiate a gradient descent optimizer (SGD)\n",
        "params = torch.tensor([1.0, 0.0], requires_grad=True)\n",
        "learning_rate = 1e-5\n",
        "optimizer = optim.SGD([params], lr=learning_rate)"
      ],
      "metadata": {
        "id": "RsQSP1Gvw0o2"
      },
      "execution_count": null,
      "outputs": []
    },
    {
      "cell_type": "markdown",
      "source": [
        "Each optimizer exposes two methods: **zero_grad** and **step**.\n",
        "\n",
        "**zero_grad**: zeroes the grad attribute of all the parameters passed to the optimizer upon construction.\n",
        "\n",
        "**step**: updates the value of those parameters according to the optimization strategy implementedby the specific optimizer.\n",
        "\n",
        "Now let’s take our fancy new optimizer for a spin:"
      ],
      "metadata": {
        "id": "kw11GWrCxR_E"
      }
    },
    {
      "cell_type": "code",
      "execution_count": null,
      "metadata": {
        "id": "wIl2eMMRzzdV",
        "colab": {
          "base_uri": "https://localhost:8080/"
        },
        "outputId": "a9c3dc30-91ae-4e50-b1f4-06ceac3193cf"
      },
      "outputs": [
        {
          "output_type": "execute_result",
          "data": {
            "text/plain": [
              "tensor([ 9.5483e-01, -8.2600e-04], requires_grad=True)"
            ]
          },
          "metadata": {},
          "execution_count": 862
        }
      ],
      "source": [
        "# See how optimizer works without our meddling\n",
        "t_p = model(t_u, *params)\n",
        "loss = loss_fn(t_p, t_c)\n",
        "loss.backward()\n",
        "\n",
        "optimizer.step() #  The value of params is updated here\n",
        "\n",
        "params"
      ]
    },
    {
      "cell_type": "markdown",
      "source": [
        "Let's summarize:"
      ],
      "metadata": {
        "id": "TB1ibvbAzkwM"
      }
    },
    {
      "cell_type": "code",
      "source": [
        "# One iteration of the training with auto-grad and optimizer\n",
        "params = torch.tensor([1.0, 0.0], requires_grad=True)\n",
        "learning_rate = 1e-5\n",
        "optimizer = optim.SGD([params], lr=learning_rate)\n",
        "\n",
        "t_p = model(t_un, *params)\n",
        "loss = loss_fn(t_p, t_c)\n",
        "\n",
        "optimizer.zero_grad() # The exact placement of this call is somewhat arbitrary. It could be earlier in the loop as well.\n",
        "loss.backward()\n",
        "optimizer.step()\n",
        "\n",
        "params"
      ],
      "metadata": {
        "id": "i923h67uy0Ee",
        "colab": {
          "base_uri": "https://localhost:8080/"
        },
        "outputId": "7425f44d-cc03-4065-967e-a02dcb39fb42"
      },
      "execution_count": null,
      "outputs": [
        {
          "output_type": "execute_result",
          "data": {
            "text/plain": [
              "tensor([1.0008e+00, 1.0640e-04], requires_grad=True)"
            ]
          },
          "metadata": {},
          "execution_count": 863
        }
      ]
    },
    {
      "cell_type": "markdown",
      "source": [
        "Let’s update our training loop accordingly:"
      ],
      "metadata": {
        "id": "vfTHQIjg1EnR"
      }
    },
    {
      "cell_type": "code",
      "source": [
        "# Define the training loop with auto-grad and optimizer\n",
        "def training_loop(n_epochs, optimizer, params, t_u, t_c):\n",
        "    for epoch in range(1, n_epochs + 1):\n",
        "        t_p = model(t_u, *params)\n",
        "        loss = loss_fn(t_p, t_c)\n",
        "\n",
        "        optimizer.zero_grad()\n",
        "        loss.backward()\n",
        "        optimizer.step()\n",
        "\n",
        "        if epoch % 500 == 0:\n",
        "            print('Epoch %d, Loss %f' % (epoch, float(loss)))\n",
        "\n",
        "    return params"
      ],
      "metadata": {
        "id": "Kh3Sd3dz1KPI"
      },
      "execution_count": null,
      "outputs": []
    },
    {
      "cell_type": "code",
      "source": [
        "# Train the model in a training loop that uses both auto-grad and optimizer\n",
        "params = torch.tensor([1.0, 0.0], requires_grad=True)\n",
        "learning_rate = 1e-2\n",
        "optimizer = optim.SGD([params], lr=learning_rate) # <1>\n",
        "\n",
        "training_loop(\n",
        "    n_epochs = 2000,\n",
        "    optimizer = optimizer,\n",
        "    params = params, # <1>\n",
        "    t_u = t_un,\n",
        "    t_c = t_c)"
      ],
      "metadata": {
        "id": "UUTZvxq612SL",
        "colab": {
          "base_uri": "https://localhost:8080/"
        },
        "outputId": "a555f2ad-a073-4e3e-877e-94d69c8954b6"
      },
      "execution_count": null,
      "outputs": [
        {
          "output_type": "stream",
          "name": "stdout",
          "text": [
            "Epoch 500, Loss 7.860120\n",
            "Epoch 1000, Loss 3.828538\n",
            "Epoch 1500, Loss 3.092191\n",
            "Epoch 2000, Loss 2.957698\n"
          ]
        },
        {
          "output_type": "execute_result",
          "data": {
            "text/plain": [
              "tensor([  5.2644, -16.7200], requires_grad=True)"
            ]
          },
          "metadata": {},
          "execution_count": 865
        }
      ]
    },
    {
      "cell_type": "markdown",
      "source": [
        "Q4. Define and use Adam optimizer, a more sophisticated optimizer in which the learning rate is set adaptively, to see how the results change. Is is working better with the same initializations as the previous model?"
      ],
      "metadata": {
        "id": "4Fwzkwd05CG8"
      }
    },
    {
      "cell_type": "code",
      "source": [
        "#Q4\n",
        "params = torch.tensor([1.0, 0.0], requires_grad=True)\n",
        "learning_rate = 1e-2\n",
        "optimizer = optim.Adam([params], lr=learning_rate)\n",
        "\n",
        "training_loop(\n",
        "    n_epochs = 2000,\n",
        "    optimizer = optimizer,\n",
        "    params = params, # <1>\n",
        "    t_u = t_un,\n",
        "    t_c = t_c)"
      ],
      "metadata": {
        "id": "lkZPYc0D5z9F",
        "colab": {
          "base_uri": "https://localhost:8080/"
        },
        "outputId": "728dce71-1937-4ac0-c72e-2154c73be5e1"
      },
      "execution_count": null,
      "outputs": [
        {
          "output_type": "stream",
          "name": "stdout",
          "text": [
            "Epoch 500, Loss 24.946459\n",
            "Epoch 1000, Loss 15.752771\n",
            "Epoch 1500, Loss 9.455151\n",
            "Epoch 2000, Loss 5.767542\n"
          ]
        },
        {
          "output_type": "execute_result",
          "data": {
            "text/plain": [
              "tensor([  4.3555, -11.6190], requires_grad=True)"
            ]
          },
          "metadata": {},
          "execution_count": 866
        }
      ]
    },
    {
      "cell_type": "markdown",
      "source": [
        "**Answer:** On comparing both the models - Adam and SGD, SGD model performs better as it has lower loss at the end of the epoch which is 2.957698 and Adam model has lower loss at the last epoch as 5.767542."
      ],
      "metadata": {
        "id": "yUHRRqoegtDa"
      }
    },
    {
      "cell_type": "markdown",
      "source": [
        "Q5. Initialize both previous models this time with t_u = t _u (the data before scaling/normalization). Compare the outputs of the two optimzers. Which one is more stable? Why?"
      ],
      "metadata": {
        "id": "zMOsgfuk6Oy1"
      }
    },
    {
      "cell_type": "code",
      "source": [
        "# Q5"
      ],
      "metadata": {
        "id": "9lSugrUy6quj"
      },
      "execution_count": null,
      "outputs": []
    },
    {
      "cell_type": "code",
      "source": [
        "#SGD optimizer\n",
        "\n",
        "params = torch.tensor([1.0, 0.0], requires_grad=True)\n",
        "learning_rate = 1e-2\n",
        "optimizer = optim.SGD([params], lr=learning_rate) # <1>\n",
        "\n",
        "training_loop(\n",
        "    n_epochs = 2000,\n",
        "    optimizer = optimizer,\n",
        "    params = params, # <1>\n",
        "    t_u = t_u,\n",
        "    t_c = t_c)"
      ],
      "metadata": {
        "colab": {
          "base_uri": "https://localhost:8080/"
        },
        "id": "22Wq2biMg0T7",
        "outputId": "7ee89c37-6a02-4589-f8d9-f160fbf25c24"
      },
      "execution_count": null,
      "outputs": [
        {
          "output_type": "stream",
          "name": "stdout",
          "text": [
            "Epoch 500, Loss nan\n",
            "Epoch 1000, Loss nan\n",
            "Epoch 1500, Loss nan\n",
            "Epoch 2000, Loss nan\n"
          ]
        },
        {
          "output_type": "execute_result",
          "data": {
            "text/plain": [
              "tensor([nan, nan], requires_grad=True)"
            ]
          },
          "metadata": {},
          "execution_count": 868
        }
      ]
    },
    {
      "cell_type": "code",
      "source": [
        "#Adam optimizer\n",
        "\n",
        "params = torch.tensor([1.0, 0.0], requires_grad=True)\n",
        "learning_rate = 1e-2\n",
        "optimizer = optim.Adam([params], lr=learning_rate)\n",
        "\n",
        "training_loop(\n",
        "    n_epochs = 2000,\n",
        "    optimizer = optimizer,\n",
        "    params = params, # <1>\n",
        "    t_u = t_u,\n",
        "    t_c = t_c)"
      ],
      "metadata": {
        "colab": {
          "base_uri": "https://localhost:8080/"
        },
        "id": "nQF6bZYhiwSC",
        "outputId": "ecfb40fb-662e-4111-812d-c25389384946"
      },
      "execution_count": null,
      "outputs": [
        {
          "output_type": "stream",
          "name": "stdout",
          "text": [
            "Epoch 500, Loss 25.590321\n",
            "Epoch 1000, Loss 22.958574\n",
            "Epoch 1500, Loss 19.641720\n",
            "Epoch 2000, Loss 16.026117\n"
          ]
        },
        {
          "output_type": "execute_result",
          "data": {
            "text/plain": [
              "tensor([ 0.3211, -5.0789], requires_grad=True)"
            ]
          },
          "metadata": {},
          "execution_count": 869
        }
      ]
    },
    {
      "cell_type": "markdown",
      "source": [
        "**Answer:** After initializing t_u = t_u in both the models - SGD and Adam optimizers, Adam optimizer is more stable as the loss decreases steadily. The SGD model shows instability because of absence of loss values."
      ],
      "metadata": {
        "id": "UThxJnJDjVPc"
      }
    },
    {
      "cell_type": "code",
      "source": [
        "!jupyter nbconvert --to html \"/content/drive/My Drive/Colab Notebooks/IS675_lab05.ipynb\""
      ],
      "metadata": {
        "colab": {
          "base_uri": "https://localhost:8080/"
        },
        "id": "M6v6UV93ghLm",
        "outputId": "197b52a0-82f5-40a0-a825-73f02e9504ff"
      },
      "execution_count": null,
      "outputs": [
        {
          "output_type": "stream",
          "name": "stdout",
          "text": [
            "[NbConvertApp] Converting notebook /content/drive/My Drive/Colab Notebooks/IS675_lab05.ipynb to html\n",
            "[NbConvertApp] Writing 835722 bytes to /content/drive/My Drive/Colab Notebooks/IS675_lab05.html\n"
          ]
        }
      ]
    }
  ],
  "metadata": {
    "kernelspec": {
      "display_name": "Python 3",
      "language": "python",
      "name": "python3"
    },
    "language_info": {
      "codemirror_mode": {
        "name": "ipython",
        "version": 3
      },
      "file_extension": ".py",
      "mimetype": "text/x-python",
      "name": "python",
      "nbconvert_exporter": "python",
      "pygments_lexer": "ipython3",
      "version": "3.7.6"
    },
    "pycharm": {
      "stem_cell": {
        "cell_type": "raw",
        "metadata": {
          "collapsed": false
        },
        "source": []
      }
    },
    "colab": {
      "provenance": [],
      "include_colab_link": true
    }
  },
  "nbformat": 4,
  "nbformat_minor": 0
}